{
 "cells": [
  {
   "cell_type": "markdown",
   "metadata": {},
   "source": [
    "# Cals lstm seqtoseq test\n",
    "Use a lstm seq to seq tensorflow model to train a network to predict time series outputs."
   ]
  },
  {
   "cell_type": "code",
   "execution_count": 1,
   "metadata": {},
   "outputs": [],
   "source": [
    "## The test data\n",
    "\n"
   ]
  },
  {
   "cell_type": "code",
   "execution_count": 2,
   "metadata": {},
   "outputs": [],
   "source": [
    "import tensorflow as tf\n",
    "import numpy as np \n",
    "import random\n",
    "import math\n",
    "from matplotlib import pyplot as plt\n",
    "import os\n",
    "import copy"
   ]
  },
  {
   "cell_type": "code",
   "execution_count": 3,
   "metadata": {},
   "outputs": [],
   "source": [
    "input_seq_len = 15\n",
    "output_seq_len = 20\n",
    "\n",
    "x = np.linspace(0, 30, 105)\n",
    "train_data_x = x[:85]\n",
    "\n",
    "def true_signal(x):\n",
    "    y = 2 * np.sin(x)\n",
    "    return y\n",
    "\n",
    "def noise_func(x, noise_factor = 1):\n",
    "    return np.random.randn(len(x)) * noise_factor\n",
    "\n",
    "def generate_y_values(x):\n",
    "    return true_signal(x) + noise_func(x)\n",
    "\n",
    "def generate_train_samples(x = train_data_x, batch_size = 10, \n",
    "                           input_seq_len = input_seq_len, output_seq_len = output_seq_len):\n",
    "\n",
    "    total_start_points = len(x) - input_seq_len - output_seq_len\n",
    "    #print(\"total_start_points = \", total_start_points)\n",
    "    start_x_idx = np.random.choice(range(total_start_points), batch_size)\n",
    "    #print(\"start_x_idx = \", start_x_idx)\n",
    "    \n",
    "    input_seq_x = [x[i:(i+input_seq_len)] for i in start_x_idx]\n",
    "    output_seq_x = [x[(i+input_seq_len):(i+input_seq_len+output_seq_len)] for i in start_x_idx]\n",
    "    \n",
    "    input_seq_y = [generate_y_values(x) for x in input_seq_x]\n",
    "    output_seq_y = [generate_y_values(x) for x in output_seq_x]\n",
    "    \n",
    "    #batch_x = np.array([[true_signal()]])\n",
    "    return np.array(input_seq_y), np.array(output_seq_y)\n"
   ]
  },
  {
   "cell_type": "code",
   "execution_count": null,
   "metadata": {},
   "outputs": [],
   "source": []
  }
 ],
 "metadata": {
  "kernelspec": {
   "display_name": "Python 3",
   "language": "python",
   "name": "python3"
  },
  "language_info": {
   "codemirror_mode": {
    "name": "ipython",
    "version": 3
   },
   "file_extension": ".py",
   "mimetype": "text/x-python",
   "name": "python",
   "nbconvert_exporter": "python",
   "pygments_lexer": "ipython3",
   "version": "3.6.4"
  }
 },
 "nbformat": 4,
 "nbformat_minor": 2
}
