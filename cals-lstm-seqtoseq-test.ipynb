{
 "cells": [
  {
   "cell_type": "markdown",
   "metadata": {},
   "source": [
    "# Cals lstm seqtoseq test\n",
    "Use a lstm seq to seq tensorflow model to train a network to predict time series outputs."
   ]
  },
  {
   "cell_type": "code",
   "execution_count": null,
   "metadata": {},
   "outputs": [],
   "source": []
  },
  {
   "cell_type": "code",
   "execution_count": 1,
   "metadata": {},
   "outputs": [],
   "source": [
    "import tensorflow as tf\n",
    "import numpy as np \n",
    "import random\n",
    "import math\n",
    "from matplotlib import pyplot as plt\n",
    "import os\n",
    "import copy\n",
    "import pandas as pd\n",
    "import random\n",
    "\n",
    "import ipdb\n",
    "#import pixiedust"
   ]
  },
  {
   "cell_type": "code",
   "execution_count": 2,
   "metadata": {},
   "outputs": [
    {
     "name": "stdout",
     "output_type": "stream",
     "text": [
      "(39244, 1)\n",
      "39244\n",
      "392.44\n",
      "[0.0000e+00 1.0000e-02 2.0000e-02 ... 3.9241e+02 3.9242e+02 3.9243e+02]\n"
     ]
    }
   ],
   "source": [
    "## The test data\n",
    "testData = pd.read_csv(r'./test_data/pitch_sen_data.txt', delimiter=',')\n",
    "print(testData.shape)\n",
    "\n",
    "testData = np.squeeze(testData.to_numpy()) # COnvert to numpy array remove 1 length dimensions\n",
    "tdata_len = len(testData)\n",
    "\n",
    "step_period = 0.01 # data is taken at 100 Hz\n",
    "max_time = tdata_len * step_period \n",
    "print(tdata_len)\n",
    "print(max_time)\n",
    "min_time = 0\n",
    "testDataTime = np.arange(min_time,max_time, step_period)\n",
    "print(testDataTime)"
   ]
  },
  {
   "cell_type": "code",
   "execution_count": 9,
   "metadata": {
    "pixiedust": {
     "displayParams": {}
    }
   },
   "outputs": [],
   "source": [
    "\n",
    "input_seq_len = 60\n",
    "output_seq_len = 30\n",
    "noise_factor = 0.0\n",
    "\n",
    "x = np.linspace(0, max_time, tdata_len)\n",
    "\n",
    "def true_signal(x, y_data):\n",
    "    \n",
    "    y = y_data[x]\n",
    "    return y\n",
    "\n",
    "def noise_func(x, noise_factor = 1):\n",
    "    return np.random.randn(len(x)) * noise_factor\n",
    "\n",
    "def generate_y_values(x, y_data, noise_factor = 1):\n",
    "    # For each array in x generate a corresponding output array y from the y_data array input.\n",
    "    return true_signal(x, y_data) + noise_func(x, noise_factor)\n",
    "\n",
    "\n",
    "def generate_train_samples(input_y, batch_size = 10, \n",
    "                           input_seq_len = input_seq_len, output_seq_len = output_seq_len):\n",
    "    # input_y is an array e.g the data to learn\n",
    "    \n",
    "    # create an index array\n",
    "    input_x = np.arange(0,len(input_y))\n",
    "    assert len(input_x) == len(input_y)\n",
    "    \n",
    "    total_start_points = len(input_x) - input_seq_len - output_seq_len\n",
    "    #print(\"total_start_points = \", total_start_points)\n",
    "    start_x_idx = np.random.choice(range(total_start_points), batch_size)\n",
    "    #print(\"start_x_idx = \\n\", start_x_idx)\n",
    "    \n",
    "    input_seq_x = [input_x[i:(i+input_seq_len)] for i in start_x_idx]\n",
    "    output_seq_x = [input_x[(i+input_seq_len):(i+input_seq_len+output_seq_len)] for i in start_x_idx]\n",
    "    #print(\"input_seq_x = \\n\", input_seq_x)\n",
    "    #print(\"output_seq_x = \\n\", output_seq_x)\n",
    "    \n",
    "    #ipdb.set_trace()\n",
    "    input_seq_y = [generate_y_values(x, input_y, noise_factor) for x in input_seq_x]\n",
    "    output_seq_y = [generate_y_values(x, input_y, noise_factor) for x in output_seq_x]\n",
    "    \n",
    "    #batch_x = np.array([[true_signal()]])\n",
    "    return np.array(input_seq_y), np.array(output_seq_y)\n"
   ]
  },
  {
   "cell_type": "code",
   "execution_count": 10,
   "metadata": {
    "pixiedust": {
     "displayParams": {}
    }
   },
   "outputs": [
    {
     "data": {
      "image/png": "[encoded data removed]",
      "text/plain": [
       "<Figure size 432x288 with 1 Axes>"
      ]
     },
     "metadata": {
      "needs_background": "light"
     },
     "output_type": "display_data"
    }
   ],
   "source": [
    "input_seq, output_seq = generate_train_samples(testData, batch_size=10)\n",
    "\n",
    "l1, = plt.plot(range(input_seq_len), input_seq[1], 'bo', label = 'input sequence for one batch')\n",
    "plt_start = input_seq_len\n",
    "plt_end = input_seq_len + output_seq_len\n",
    "l2, = plt.plot(range(plt_start, plt_end), output_seq[1], 'ro', label = 'output sequence for one batch')\n",
    "plt.legend(handles = [l1, l2], loc = 'lower left')\n",
    "plt.show()"
   ]
  },
  {
   "cell_type": "markdown",
   "metadata": {},
   "source": [
    "## basic_rnn_seq2seq"
   ]
  },
  {
   "cell_type": "code",
   "execution_count": 11,
   "metadata": {},
   "outputs": [],
   "source": [
    "from build_model_basic import * \n",
    "\n",
    "## Parameters\n",
    "learning_rate = 0.01\n",
    "lambda_l2_reg = 0.003  \n",
    "\n",
    "## Network Parameters\n",
    "# length of input signals\n",
    "input_seq_len = 15 \n",
    "# length of output signals\n",
    "output_seq_len = 20 \n",
    "# size of LSTM Cell\n",
    "hidden_dim = 64 \n",
    "# num of input signals\n",
    "input_dim = 1\n",
    "# num of output signals\n",
    "output_dim = 1\n",
    "# num of stacked lstm layers \n",
    "num_stacked_layers = 2 \n",
    "# gradient clipping - to avoid gradient exploding\n",
    "GRADIENT_CLIPPING = 2.5 "
   ]
  },
  {
   "cell_type": "code",
   "execution_count": 12,
   "metadata": {},
   "outputs": [
    {
     "name": "stdout",
     "output_type": "stream",
     "text": [
      "training index = 0, loss = 0.08143406\n",
      "training index = 100, loss = 0.017334856\n",
      "training index = 200, loss = 0.0041338606\n",
      "training index = 300, loss = 0.0013229226\n",
      "training index = 400, loss = 0.00066762615\n",
      "training index = 500, loss = 0.00046995754\n",
      "training index = 600, loss = 0.00071745995\n",
      "training index = 700, loss = 0.00068759086\n",
      "training index = 800, loss = 0.00086555036\n",
      "training index = 900, loss = 0.0003000198\n",
      "training index = 1000, loss = 0.0004654283\n",
      "training index = 1100, loss = 0.00013342127\n",
      "training index = 1200, loss = 0.00034181803\n",
      "training index = 1300, loss = 0.00013389844\n",
      "training index = 1400, loss = 0.0007346306\n",
      "training index = 1500, loss = 0.0004000517\n",
      "training index = 1600, loss = 0.00019171798\n",
      "training index = 1700, loss = 0.00036557304\n",
      "training index = 1800, loss = 0.00011798853\n",
      "training index = 1900, loss = 0.00020809445\n",
      "Checkpoint saved at:  ./univariate_ts_model0\n"
     ]
    }
   ],
   "source": [
    "total_iteractions = 2000\n",
    "batch_size = 16\n",
    "KEEP_RATE = 0.5\n",
    "train_losses = []\n",
    "val_losses = []\n",
    "\n",
    "rnn_model = build_graph(feed_previous=False)\n",
    "\n",
    "saver = tf.train.Saver()\n",
    "\n",
    "init = tf.global_variables_initializer()\n",
    "with tf.Session() as sess:\n",
    "\n",
    "    sess.run(init)\n",
    "    \n",
    "    for i in range(total_iteractions):\n",
    "        batch_input, batch_output = generate_train_samples(testData, batch_size=batch_size)\n",
    "        \n",
    "        feed_dict = {rnn_model['enc_inp'][t]: batch_input[:,t].reshape(-1,input_dim) for t in range(input_seq_len)}\n",
    "        feed_dict.update({rnn_model['target_seq'][t]: batch_output[:,t].reshape(-1,output_dim) for t in range(output_seq_len)})\n",
    "        _, loss_t = sess.run([rnn_model['train_op'], rnn_model['loss']], feed_dict)\n",
    "        if i % 100 == 0:\n",
    "            print(\"training index = %s, loss = %s\" %(i, loss_t))\n",
    "        \n",
    "    temp_saver = rnn_model['saver']()\n",
    "    save_path = temp_saver.save(sess, os.path.join('./', 'univariate_ts_model0'))\n",
    "        \n",
    "print(\"Checkpoint saved at: \", save_path)"
   ]
  },
  {
   "cell_type": "markdown",
   "metadata": {},
   "source": [
    "## Inference"
   ]
  },
  {
   "cell_type": "code",
   "execution_count": 21,
   "metadata": {},
   "outputs": [
    {
     "name": "stdout",
     "output_type": "stream",
     "text": [
      "INFO:tensorflow:Restoring parameters from ./univariate_ts_model0\n"
     ]
    },
    {
     "data": {
      "image/png": "[encoded data removed]",
      "text/plain": [
       "<Figure size 432x288 with 1 Axes>"
      ]
     },
     "metadata": {
      "needs_background": "light"
     },
     "output_type": "display_data"
    }
   ],
   "source": [
    "#print(train_data_x)\n",
    "len_inf_data = input_seq_len\n",
    "start_ind = random.randint(0, len(testData) - output_seq_len)\n",
    "end_ind = start_ind + len_inf_data\n",
    "test_ind = np.arange(start_ind, end_ind)\n",
    "\n",
    "test_seq_input = true_signal(test_ind, testData)\n",
    "\n",
    "rnn_model = build_graph(feed_previous=True)\n",
    "\n",
    "init = tf.global_variables_initializer()\n",
    "with tf.Session() as sess:\n",
    "\n",
    "    sess.run(init)\n",
    "    \n",
    "    saver = rnn_model['saver']().restore(sess, os.path.join('./', 'univariate_ts_model0'))\n",
    "    \n",
    "    feed_dict = {rnn_model['enc_inp'][t]: test_seq_input[t].reshape(1,1) for t in range(input_seq_len)}\n",
    "    feed_dict.update({rnn_model['target_seq'][t]: np.zeros([1, output_dim]) for t in range(output_seq_len)})\n",
    "    final_preds = sess.run(rnn_model['reshaped_outputs'], feed_dict)\n",
    "    \n",
    "    final_preds = np.concatenate(final_preds, axis = 1)\n",
    " \n",
    "# Plot the last 20 predictions\n",
    "l1, = plt.plot(test_ind, true_signal(test_ind, testData), label = 'Training truth')\n",
    "out_ind = range(end_ind, end_ind+output_seq_len)\n",
    "l2, = plt.plot(out_ind, testData[out_ind], 'yo', label = 'Test truth')\n",
    "l3, = plt.plot(out_ind, final_preds.reshape(-1), 'ro', label = 'Test predictions')\n",
    "plt.legend(handles = [l1, l2, l3], loc = 'lower left')\n",
    "plt.show()"
   ]
  },
  {
   "cell_type": "markdown",
   "metadata": {},
   "source": []
  },
  {
   "cell_type": "code",
   "execution_count": null,
   "metadata": {},
   "outputs": [],
   "source": []
  },
  {
   "cell_type": "code",
   "execution_count": null,
   "metadata": {},
   "outputs": [],
   "source": []
  },
  {
   "cell_type": "code",
   "execution_count": null,
   "metadata": {},
   "outputs": [],
   "source": []
  }
 ],
 "metadata": {
  "kernelspec": {
   "display_name": "Python 3",
   "language": "python",
   "name": "python3"
  },
  "language_info": {
   "codemirror_mode": {
    "name": "ipython",
    "version": 3
   },
   "file_extension": ".py",
   "mimetype": "text/x-python",
   "name": "python",
   "nbconvert_exporter": "python",
   "pygments_lexer": "ipython3",
   "version": "3.6.4"
  }
 },
 "nbformat": 4,
 "nbformat_minor": 2
}
